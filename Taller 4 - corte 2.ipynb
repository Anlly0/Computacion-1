{
 "cells": [
  {
   "cell_type": "code",
   "execution_count": 61,
   "id": "284e81ee-d183-4c6c-ae1a-611af60c34e1",
   "metadata": {},
   "outputs": [],
   "source": [
    "import datetime\n",
    "\n",
    "class Persona:\n",
    "    def __init__(self, nombre, fecha, altura):\n",
    "        hoy = datetime.date.today()\n",
    "        \n",
    "        if not (0.5 <= altura <= 2.5):\n",
    "            raise ValueError('Tu altura debe estar entre 0.5 y 2.5 metros')\n",
    "\n",
    "        try:\n",
    "            fecha = datetime.datetime.strptime(fecha, '%Y-%m-%d').date()\n",
    "            if fecha > hoy:\n",
    "                raise ValueError('La fecha de nacimiento no puede estar en el futuro')\n",
    "        except ValueError as e:\n",
    "            raise ValueError(f'Formato de fecha inválido. Debe ser AAAA-MM-DD: {e}')\n",
    "\n",
    "        self.nombre = nombre\n",
    "        self.fecha = fecha\n",
    "        self.altura = altura\n",
    "\n",
    "    def edad(self):\n",
    "        hoy = datetime.date.today()\n",
    "        edad = hoy.year - self.fecha.year\n",
    "        if (hoy.month, hoy.day) < (self.fecha.month, self.fecha.day):\n",
    "            edad -= 1\n",
    "        return edad\n",
    "\n",
    "    def saludar(self):\n",
    "        print(f'Hola, mi nombre es {self.nombre} y tengo {self.edad()} años')\n",
    "\n",
    "    def mayor_de_edad(self):\n",
    "        return self.edad() >= 18\n",
    "\n",
    "    def crecer(self, cm):\n",
    "        if 0 < cm <= 50:\n",
    "            self.altura += cm / 100\n",
    "        else:\n",
    "            raise ValueError('Solo se puede crecer entre 0 y 50 cm')\n",
    "\n",
    "    def cumple_hoy(self):\n",
    "        hoy = datetime.date.today()\n",
    "        return hoy.month == self.fecha.month and hoy.day == self.fecha.day\n",
    "\n",
    "    def dias_para_cumpleaños(self):\n",
    "        hoy = datetime.date.today()\n",
    "        proximo = datetime.date(hoy.year, self.fecha.month, self.fecha.day)\n",
    "        if proximo < hoy:\n",
    "            proximo = datetime.date(hoy.year + 1, self.fecha.month, self.fecha.day)\n",
    "        return (proximo - hoy).days\n",
    "\n",
    "    def __str__(self):\n",
    "        return f'{self.nombre} - {self.edad()} años - {round(self.altura, 2)} m'\n"
   ]
  },
  {
   "cell_type": "code",
   "execution_count": 73,
   "id": "8418e9c2-075e-491c-a160-5afbd5f338a4",
   "metadata": {},
   "outputs": [
    {
     "name": "stdout",
     "output_type": "stream",
     "text": [
      "Hola, mi nombre es Anlly y tengo 21 años\n",
      "¿es mayor de edad? True\n",
      "¿cumple hoy? False\n",
      "dias para su cumpleaños 322\n"
     ]
    }
   ],
   "source": [
    "p1 = Persona('Anlly', '2004-03-20', 1.55)\n",
    "\n",
    "p1.saludar()\n",
    "print('¿es mayor de edad?', p1.mayor_de_edad())\n",
    "print('¿cumple hoy?', p1.cumple_hoy())\n",
    "print('dias para su cumpleaños', p1.dias_para_cumpleaños())"
   ]
  },
  {
   "cell_type": "code",
   "execution_count": null,
   "id": "7141113a-938c-4b92-85b9-0a783e1cd4c7",
   "metadata": {},
   "outputs": [],
   "source": []
  }
 ],
 "metadata": {
  "kernelspec": {
   "display_name": "Python [conda env:base] *",
   "language": "python",
   "name": "conda-base-py"
  },
  "language_info": {
   "codemirror_mode": {
    "name": "ipython",
    "version": 3
   },
   "file_extension": ".py",
   "mimetype": "text/x-python",
   "name": "python",
   "nbconvert_exporter": "python",
   "pygments_lexer": "ipython3",
   "version": "3.12.7"
  }
 },
 "nbformat": 4,
 "nbformat_minor": 5
}
